{
 "cells": [
  {
   "cell_type": "markdown",
   "metadata": {
    "collapsed": true,
    "pycharm": {
     "name": "#%% md\n"
    }
   },
   "source": [
    "# Sattler\n",
    "\n",
    "Dataset: https://www.dropbox.com/sh/4adrgjsee60vcvj/AADJ-hbes1uHg3FE0et69sy5a?dl=1\n",
    "\n",
    "Say we have these files..."
   ]
  },
  {
   "cell_type": "code",
   "execution_count": 9,
   "outputs": [
    {
     "name": "stdout",
     "output_type": "stream",
     "text": [
      "['.DS_Store',\n",
      " '2021-02-26_17-19-12_mouse-0232',\n",
      " '2021-02-26_17-19-12_mouse-0232/103_ADC1.continuous',\n",
      " '2021-02-26_17-19-12_mouse-0232/103_ADC2.continuous',\n",
      " '2021-02-26_17-19-12_mouse-0232/103_ADC3.continuous',\n",
      " '2021-02-26_17-19-12_mouse-0232/103_ADC4.continuous',\n",
      " '2021-02-26_17-19-12_mouse-0232/103_ADC5.continuous',\n",
      " '2021-02-26_17-19-12_mouse-0232/103_ADC6.continuous',\n",
      " '2021-02-26_17-19-12_mouse-0232/103_ADC7.continuous',\n",
      " '2021-02-26_17-19-12_mouse-0232/103_ADC8.continuous',\n",
      " '2021-02-26_17-19-12_mouse-0232/103_AUX1.continuous',\n",
      " '2021-02-26_17-19-12_mouse-0232/103_AUX2.continuous',\n",
      " '2021-02-26_17-19-12_mouse-0232/103_AUX3.continuous',\n",
      " '2021-02-26_17-19-12_mouse-0232/103_CH1.continuous',\n",
      " '2021-02-26_17-19-12_mouse-0232/103_CH10.continuous',\n",
      " '2021-02-26_17-19-12_mouse-0232/103_CH11.continuous',\n",
      " '2021-02-26_17-19-12_mouse-0232/103_CH12.continuous',\n",
      " '2021-02-26_17-19-12_mouse-0232/103_CH13.continuous',\n",
      " '2021-02-26_17-19-12_mouse-0232/103_CH14.continuous',\n",
      " '2021-02-26_17-19-12_mouse-0232/103_CH15.continuous',\n",
      " '2021-02-26_17-19-12_mouse-0232/103_CH16.continuous',\n",
      " '2021-02-26_17-19-12_mouse-0232/103_CH17.continuous',\n",
      " '2021-02-26_17-19-12_mouse-0232/103_CH18.continuous',\n",
      " '2021-02-26_17-19-12_mouse-0232/103_CH19.continuous',\n",
      " '2021-02-26_17-19-12_mouse-0232/103_CH2.continuous',\n",
      " '2021-02-26_17-19-12_mouse-0232/103_CH20.continuous',\n",
      " '2021-02-26_17-19-12_mouse-0232/103_CH21.continuous',\n",
      " '2021-02-26_17-19-12_mouse-0232/103_CH22.continuous',\n",
      " '2021-02-26_17-19-12_mouse-0232/103_CH23.continuous',\n",
      " '2021-02-26_17-19-12_mouse-0232/103_CH24.continuous',\n",
      " '2021-02-26_17-19-12_mouse-0232/103_CH25.continuous',\n",
      " '2021-02-26_17-19-12_mouse-0232/103_CH26.continuous',\n",
      " '2021-02-26_17-19-12_mouse-0232/103_CH27.continuous',\n",
      " '2021-02-26_17-19-12_mouse-0232/103_CH28.continuous',\n",
      " '2021-02-26_17-19-12_mouse-0232/103_CH29.continuous',\n",
      " '2021-02-26_17-19-12_mouse-0232/103_CH3.continuous',\n",
      " '2021-02-26_17-19-12_mouse-0232/103_CH30.continuous',\n",
      " '2021-02-26_17-19-12_mouse-0232/103_CH31.continuous',\n",
      " '2021-02-26_17-19-12_mouse-0232/103_CH32.continuous',\n",
      " '2021-02-26_17-19-12_mouse-0232/103_CH4.continuous',\n",
      " '2021-02-26_17-19-12_mouse-0232/103_CH5.continuous',\n",
      " '2021-02-26_17-19-12_mouse-0232/103_CH6.continuous',\n",
      " '2021-02-26_17-19-12_mouse-0232/103_CH7.continuous',\n",
      " '2021-02-26_17-19-12_mouse-0232/103_CH8.continuous',\n",
      " '2021-02-26_17-19-12_mouse-0232/103_CH9.continuous',\n",
      " '2021-02-26_17-19-12_mouse-0232/Continuous_Data.openephys',\n",
      " '2021-02-26_17-19-12_mouse-0232/TT0.spikes',\n",
      " '2021-02-26_17-19-12_mouse-0232/TT1.spikes',\n",
      " '2021-02-26_17-19-12_mouse-0232/TT2.spikes',\n",
      " '2021-02-26_17-19-12_mouse-0232/TT3.spikes',\n",
      " '2021-02-26_17-19-12_mouse-0232/TT4.spikes',\n",
      " '2021-02-26_17-19-12_mouse-0232/TT5.spikes',\n",
      " '2021-02-26_17-19-12_mouse-0232/TT6.spikes',\n",
      " '2021-02-26_17-19-12_mouse-0232/TT7.spikes',\n",
      " '2021-02-26_17-19-12_mouse-0232/all_channels.events',\n",
      " '2021-02-26_17-19-12_mouse-0232/messages.events',\n",
      " '2021-02-26_17-19-12_mouse-0232/notebook.mat',\n",
      " '2021-02-26_17-19-12_mouse-0232/settings.xml',\n",
      " '2021-02-26_17-19-12_mouse-0232/stimlog.txt',\n",
      " 'Sky_mouse-0232_2021-02-26T17_19_10.csv',\n",
      " 'Sky_mouse-0232_2021-02-26T17_19_10.mp4',\n",
      " 'Sky_mouse-0232_2021-02-26T17_19_10_reenc.mp4',\n",
      " 'TTL_mouse-0232_2021-02-26T17_19_10.csv']\n"
     ]
    }
   ],
   "source": [
    "from pathlib import Path\n",
    "from pprint import pprint\n",
    "\n",
    "# we've symlinked the example data folder to the cwd for this example\n",
    "base_path = Path().cwd()  / '2021-02-26_17-19-10_mouse-0232'\n",
    "\n",
    "data_files = [str(path.relative_to(base_path)) for path in base_path.glob(\"**/*\")]\n",
    "pprint(sorted(data_files))"
   ],
   "metadata": {
    "collapsed": false,
    "pycharm": {
     "name": "#%%\n"
    }
   }
  },
  {
   "cell_type": "markdown",
   "source": [
    "Which compose a dataset of\n",
    "\n",
    "* Continuous extracellular ephys data recorded by open ephys\n",
    "* Spikes sorted by Kilosort\n",
    "* Stimulus information from some custom behavioral software\n",
    "* Raw video of the behaving animal.\n"
   ],
   "metadata": {
    "collapsed": false,
    "pycharm": {
     "name": "#%% md\n"
    }
   }
  }
 ],
 "metadata": {
  "kernelspec": {
   "display_name": "Python 3",
   "language": "python",
   "name": "python3"
  },
  "language_info": {
   "codemirror_mode": {
    "name": "ipython",
    "version": 2
   },
   "file_extension": ".py",
   "mimetype": "text/x-python",
   "name": "python",
   "nbconvert_exporter": "python",
   "pygments_lexer": "ipython2",
   "version": "2.7.6"
  }
 },
 "nbformat": 4,
 "nbformat_minor": 0
}